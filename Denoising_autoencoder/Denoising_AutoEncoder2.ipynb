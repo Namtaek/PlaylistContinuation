{
 "cells": [
  {
   "cell_type": "code",
   "execution_count": 1,
   "metadata": {},
   "outputs": [],
   "source": [
    "import pandas as pd\n",
    "import numpy as np\n",
    "import io \n",
    "import os \n",
    "import json \n",
    "import distutils.dir_util\n",
    "from collections import Counter\n",
    "from tensorflow.keras.models import save_model \n",
    "from tensorflow.keras.models import Model\n",
    "from tensorflow.keras.layers import Input,LSTM,Dense, SimpleRNN,Dropout\n",
    "#import tensorflow as tf"
   ]
  },
  {
   "cell_type": "code",
   "execution_count": 2,
   "metadata": {},
   "outputs": [],
   "source": [
    "#import keras.backend.tensorflow_backend"
   ]
  },
  {
   "cell_type": "code",
   "execution_count": 4,
   "metadata": {},
   "outputs": [],
   "source": [
    "#os.environ[\"CUDA_VISIBLE_DEVICES\"]='1'"
   ]
  },
  {
   "cell_type": "code",
   "execution_count": 5,
   "metadata": {},
   "outputs": [],
   "source": [
    "#from keras.utils import multi_gpu_model"
   ]
  },
  {
   "cell_type": "code",
   "execution_count": 6,
   "metadata": {},
   "outputs": [],
   "source": [
    "#from keras.backend import tensorflow_backend as K"
   ]
  },
  {
   "cell_type": "code",
   "execution_count": 7,
   "metadata": {},
   "outputs": [],
   "source": [
    "#from tensorflow.python.client import device_lib ## 필요한 패키지 불러오기 ##\n",
    "#import keras.backend.tensorflow_backend as K ## 필요한 패키지 불러오기 ##"
   ]
  },
  {
   "cell_type": "code",
   "execution_count": 8,
   "metadata": {},
   "outputs": [],
   "source": [
    "#from tensorflow.python.client import device_lib\n",
    "#print(device_lib.list_local_devices())"
   ]
  },
  {
   "cell_type": "code",
   "execution_count": 9,
   "metadata": {},
   "outputs": [],
   "source": [
    "def load_train_json(fname):\n",
    "    f = pd.read_json(fname+'.json' ,typ = 'frame', encoding=\"utf-8\")\n",
    "    df = pd.DataFrame(f)\n",
    "    df = df.sort_values(by=['like_cnt'],ascending=False)\n",
    "    df = df[df['like_cnt']>10]\n",
    "    print('load_train_json')\n",
    "    return df"
   ]
  },
  {
   "cell_type": "code",
   "execution_count": 10,
   "metadata": {},
   "outputs": [],
   "source": [
    "def load_val_json(fname):\n",
    "    f = pd.read_json(fname+'.json' ,typ = 'frame', encoding=\"utf-8\")\n",
    "    df = pd.DataFrame(f)\n",
    "    df = df.sort_values(by=['like_cnt'],ascending=False)\n",
    "    #df = df[df['like_cnt']>10]\n",
    "    print('load_train_json')\n",
    "    return df"
   ]
  },
  {
   "cell_type": "code",
   "execution_count": 11,
   "metadata": {},
   "outputs": [],
   "source": [
    "def most_popular(df,song_num):\n",
    "    train_song = df['songs']\n",
    "    train_tag = df['tags']\n",
    "    \n",
    "    song_list = [song for plist in train_song for song in plist ]\n",
    "    tag_list = [tag for plist in train_tag for tag in plist]\n",
    "    \n",
    "    count_song = Counter(song_list)\n",
    "    count_tag = Counter(tag_list)\n",
    "    x={}\n",
    "    for key, value in count_song.items():\n",
    "        if value>song_num:\n",
    "            x[key]=value\n",
    "    song_len = len(x)\n",
    "    for key, value in count_tag.items():\n",
    "        if value>7:\n",
    "            x[key]=value\n",
    "    tag_len=len(x)-song_len\n",
    "    print('most_popular')\n",
    "    return list(x.keys()),song_len, tag_len"
   ]
  },
  {
   "cell_type": "code",
   "execution_count": 12,
   "metadata": {},
   "outputs": [],
   "source": [
    "def create_zero(column_name):\n",
    "    zero_df=pd.DataFrame(columns=col)\n",
    "    return zero_df"
   ]
  },
  {
   "cell_type": "code",
   "execution_count": 13,
   "metadata": {},
   "outputs": [],
   "source": [
    "def create_onehot(df,column_name):\n",
    "    zero_matrix=np.zeros((len(df),len(column_name)))\n",
    "    zero_df=pd.DataFrame(zero_matrix,columns=column_name,index=df['id'])\n",
    "    for i in range(len(df)):\n",
    "        for tag,song in zip(df.iloc[i,0],df.iloc[i,3]):\n",
    "            if tag in column_name:\n",
    "                zero_df.iloc[i,column_name.index(tag)]=1\n",
    "            if song in column_name:\n",
    "                zero_df.iloc[i,column_name.index(song)]=1\n",
    "    return zero_df"
   ]
  },
  {
   "cell_type": "code",
   "execution_count": 28,
   "metadata": {},
   "outputs": [],
   "source": [
    "def deep_learing(column_name,train_onehot,val_onehot):\n",
    "        col = column_name\n",
    "        encoding_dim=64\n",
    "\n",
    "        input_plist=Input(shape=(len(col),))\n",
    "        dropout = Dropout(0.2)(input_plist)\n",
    "        \n",
    "        encoded=Dense(32,activation='relu')(input_plist)\n",
    "        \n",
    "        decoded=Dense(len(col),activation='sigmoid')(encoded)\n",
    "        \n",
    "        autoencoder=Model(input_plist,decoded)\n",
    "    \n",
    "        autoencoder.compile(optimizer='adam',loss='binary_crossentropy',metrics=['accuracy'])\n",
    "        \n",
    "        autoencoder.fit(train_onehot,train_onehot,epochs=50,batch_size=32,validation_split=0.1)\n",
    "        \n",
    "        predict_plist=autoencoder.predict(val_onehot)\n",
    "        print('deep_learning')\n",
    "        return predict_plist\n"
   ]
  },
  {
   "cell_type": "code",
   "execution_count": 16,
   "metadata": {},
   "outputs": [],
   "source": [
    "def result(df_id, column_name, song_len, tag_len, predict):\n",
    "        #train_df = df\n",
    "        df_id = list(df_id)\n",
    "        col= column_name\n",
    "        ori_song = col[:song_len]\n",
    "        ori_tag = col[song_len:]\n",
    "        #onehot = df_one\n",
    "        #predict = deep_learning(train)\n",
    "        print('ok')\n",
    "        song_predict = predict[:,:song_len]\n",
    "        tag_predict = predict[:,song_len:]\n",
    "        print('ok')\n",
    "        result=[]\n",
    "        n=0\n",
    "        for i in df_id:\n",
    "            dic={}\n",
    "            dic['id']=i\n",
    "\n",
    "            plist_song=song_predict[n].argsort()[-100:]\n",
    "            p_song=[]\n",
    "            for song in plist_song:\n",
    "                p_song.append(ori_song[song])\n",
    "            dic['songs']=p_song\n",
    "\n",
    "            plist_tag=tag_predict[n].argsort()[-10:]\n",
    "            p_tag=[]\n",
    "            for tag in plist_tag:\n",
    "                p_tag.append(ori_tag[tag])\n",
    "            dic['tags']=p_tag\n",
    "            n+=1\n",
    "            result.append(dic)\n",
    "        print('result')\n",
    "        return result\n"
   ]
  },
  {
   "cell_type": "code",
   "execution_count": 17,
   "metadata": {},
   "outputs": [],
   "source": [
    "def write_json(data, fname):\n",
    "    def _conv(o):\n",
    "        if isinstance(o, (np.int64, np.int32)):\n",
    "            return int(o)\n",
    "        raise TypeError\n",
    "\n",
    "    parent = os.path.dirname(fname+\".json\")\n",
    "    distutils.dir_util.mkpath( parent)\n",
    "    with io.open( fname+\".json\", \"w\", encoding=\"utf-8\") as f:\n",
    "        json_str = json.dumps(data, ensure_ascii=False, default=_conv)\n",
    "        f.write(json_str)\n"
   ]
  },
  {
   "cell_type": "code",
   "execution_count": 18,
   "metadata": {
    "scrolled": true
   },
   "outputs": [
    {
     "name": "stdout",
     "output_type": "stream",
     "text": [
      "load_train_json\n",
      "most_popular\n",
      "33781\n"
     ]
    }
   ],
   "source": [
    "train_df=load_train_json('data/train')\n",
    "t_col,t_song, t_tag=most_popular(train_df,15)\n",
    "print(len(t_col))"
   ]
  },
  {
   "cell_type": "code",
   "execution_count": 19,
   "metadata": {},
   "outputs": [
    {
     "data": {
      "text/plain": [
       "31730"
      ]
     },
     "execution_count": 19,
     "metadata": {},
     "output_type": "execute_result"
    }
   ],
   "source": [
    "t_song"
   ]
  },
  {
   "cell_type": "code",
   "execution_count": 21,
   "metadata": {},
   "outputs": [],
   "source": [
    "train_one = create_onehot(train_df, t_col)"
   ]
  },
  {
   "cell_type": "code",
   "execution_count": 22,
   "metadata": {},
   "outputs": [
    {
     "data": {
      "text/plain": [
       "(47585, 33781)"
      ]
     },
     "execution_count": 22,
     "metadata": {},
     "output_type": "execute_result"
    }
   ],
   "source": [
    "train_one.shape"
   ]
  },
  {
   "cell_type": "code",
   "execution_count": 23,
   "metadata": {},
   "outputs": [
    {
     "name": "stdout",
     "output_type": "stream",
     "text": [
      "load_train_json\n"
     ]
    }
   ],
   "source": [
    "val_df=load_val_json('data/val')\n",
    "val_one=create_onehot(val_df, t_col)"
   ]
  },
  {
   "cell_type": "code",
   "execution_count": 24,
   "metadata": {},
   "outputs": [
    {
     "data": {
      "text/plain": [
       "(23015, 33781)"
      ]
     },
     "execution_count": 24,
     "metadata": {},
     "output_type": "execute_result"
    }
   ],
   "source": [
    "val_one.shape"
   ]
  },
  {
   "cell_type": "code",
   "execution_count": 29,
   "metadata": {
    "scrolled": true
   },
   "outputs": [
    {
     "name": "stdout",
     "output_type": "stream",
     "text": [
      "Epoch 1/50\n",
      "1339/1339 [==============================] - 54s 40ms/step - loss: 0.0600 - accuracy: 0.0120 - val_loss: 0.0030 - val_accuracy: 0.0124\n",
      "Epoch 2/50\n",
      "1339/1339 [==============================] - 57s 43ms/step - loss: 0.0025 - accuracy: 0.0123 - val_loss: 0.0021 - val_accuracy: 0.0124\n",
      "Epoch 3/50\n",
      "1339/1339 [==============================] - 50s 37ms/step - loss: 0.0020 - accuracy: 0.0123 - val_loss: 0.0018 - val_accuracy: 0.0124\n",
      "Epoch 4/50\n",
      "1339/1339 [==============================] - 52s 38ms/step - loss: 0.0018 - accuracy: 0.0123 - val_loss: 0.0016 - val_accuracy: 0.0124\n",
      "Epoch 5/50\n",
      "1339/1339 [==============================] - 52s 39ms/step - loss: 0.0016 - accuracy: 0.0152 - val_loss: 0.0015 - val_accuracy: 0.0237\n",
      "Epoch 6/50\n",
      "1339/1339 [==============================] - 54s 40ms/step - loss: 0.0014 - accuracy: 0.0368 - val_loss: 0.0013 - val_accuracy: 0.0672\n",
      "Epoch 7/50\n",
      "1339/1339 [==============================] - 51s 38ms/step - loss: 0.0013 - accuracy: 0.0620 - val_loss: 0.0012 - val_accuracy: 0.0868\n",
      "Epoch 8/50\n",
      "1339/1339 [==============================] - 55s 41ms/step - loss: 0.0012 - accuracy: 0.1052 - val_loss: 0.0011 - val_accuracy: 0.1263\n",
      "Epoch 9/50\n",
      "1339/1339 [==============================] - 54s 40ms/step - loss: 0.0011 - accuracy: 0.1385 - val_loss: 0.0010 - val_accuracy: 0.1378\n",
      "Epoch 10/50\n",
      "1339/1339 [==============================] - 54s 41ms/step - loss: 0.0010 - accuracy: 0.1472 - val_loss: 9.9242e-04 - val_accuracy: 0.1439\n",
      "Epoch 11/50\n",
      "1339/1339 [==============================] - 49s 37ms/step - loss: 9.8704e-04 - accuracy: 0.1556 - val_loss: 9.5817e-04 - val_accuracy: 0.1511\n",
      "Epoch 12/50\n",
      "1339/1339 [==============================] - 50s 37ms/step - loss: 9.4225e-04 - accuracy: 0.1595 - val_loss: 9.3249e-04 - val_accuracy: 0.1528\n",
      "Epoch 13/50\n",
      "1339/1339 [==============================] - 50s 37ms/step - loss: 9.0481e-04 - accuracy: 0.1625 - val_loss: 9.1317e-04 - val_accuracy: 0.1549\n",
      "Epoch 14/50\n",
      "1339/1339 [==============================] - 52s 39ms/step - loss: 8.7253e-04 - accuracy: 0.1646 - val_loss: 8.9817e-04 - val_accuracy: 0.1589\n",
      "Epoch 15/50\n",
      "1339/1339 [==============================] - 52s 39ms/step - loss: 8.4391e-04 - accuracy: 0.1656 - val_loss: 8.8510e-04 - val_accuracy: 0.1599\n",
      "Epoch 16/50\n",
      "1339/1339 [==============================] - 53s 40ms/step - loss: 8.1800e-04 - accuracy: 0.1671 - val_loss: 8.7443e-04 - val_accuracy: 0.1607\n",
      "Epoch 17/50\n",
      "1339/1339 [==============================] - 51s 38ms/step - loss: 7.9428e-04 - accuracy: 0.1682 - val_loss: 8.6553e-04 - val_accuracy: 0.1584\n",
      "Epoch 18/50\n",
      "1339/1339 [==============================] - 51s 38ms/step - loss: 7.7230e-04 - accuracy: 0.1687 - val_loss: 8.5797e-04 - val_accuracy: 0.1603\n",
      "Epoch 19/50\n",
      "1339/1339 [==============================] - 47s 35ms/step - loss: 7.5168e-04 - accuracy: 0.1697 - val_loss: 8.5129e-04 - val_accuracy: 0.1614\n",
      "Epoch 20/50\n",
      "1339/1339 [==============================] - 52s 39ms/step - loss: 7.3226e-04 - accuracy: 0.1702 - val_loss: 8.4574e-04 - val_accuracy: 0.1614\n",
      "Epoch 21/50\n",
      "1339/1339 [==============================] - 52s 39ms/step - loss: 7.1381e-04 - accuracy: 0.1704 - val_loss: 8.4070e-04 - val_accuracy: 0.1620\n",
      "Epoch 22/50\n",
      "1339/1339 [==============================] - 51s 38ms/step - loss: 6.9624e-04 - accuracy: 0.1713 - val_loss: 8.3609e-04 - val_accuracy: 0.1631\n",
      "Epoch 23/50\n",
      "1339/1339 [==============================] - 51s 38ms/step - loss: 6.7941e-04 - accuracy: 0.1718 - val_loss: 8.3285e-04 - val_accuracy: 0.1624\n",
      "Epoch 24/50\n",
      "1339/1339 [==============================] - 55s 41ms/step - loss: 6.6333e-04 - accuracy: 0.1719 - val_loss: 8.3013e-04 - val_accuracy: 0.1633\n",
      "Epoch 25/50\n",
      "1339/1339 [==============================] - 55s 41ms/step - loss: 6.4785e-04 - accuracy: 0.1718 - val_loss: 8.2756e-04 - val_accuracy: 0.1620\n",
      "Epoch 26/50\n",
      "1339/1339 [==============================] - 52s 39ms/step - loss: 6.3293e-04 - accuracy: 0.1726 - val_loss: 8.2565e-04 - val_accuracy: 0.1620\n",
      "Epoch 27/50\n",
      "1339/1339 [==============================] - 51s 38ms/step - loss: 6.1853e-04 - accuracy: 0.1729 - val_loss: 8.2395e-04 - val_accuracy: 0.1633\n",
      "Epoch 28/50\n",
      "1339/1339 [==============================] - 50s 37ms/step - loss: 6.0449e-04 - accuracy: 0.1721 - val_loss: 8.2358e-04 - val_accuracy: 0.1654\n",
      "Epoch 29/50\n",
      "1339/1339 [==============================] - 48s 36ms/step - loss: 5.9107e-04 - accuracy: 0.1728 - val_loss: 8.2298e-04 - val_accuracy: 0.1635\n",
      "Epoch 30/50\n",
      "1339/1339 [==============================] - 51s 38ms/step - loss: 5.7798e-04 - accuracy: 0.1734 - val_loss: 8.2266e-04 - val_accuracy: 0.1641\n",
      "Epoch 31/50\n",
      "1339/1339 [==============================] - 48s 36ms/step - loss: 5.6529e-04 - accuracy: 0.1725 - val_loss: 8.2351e-04 - val_accuracy: 0.1639\n",
      "Epoch 32/50\n",
      "1339/1339 [==============================] - 46s 34ms/step - loss: 5.5291e-04 - accuracy: 0.1717 - val_loss: 8.2406e-04 - val_accuracy: 0.1647\n",
      "Epoch 33/50\n",
      "1339/1339 [==============================] - 50s 38ms/step - loss: 5.4095e-04 - accuracy: 0.1737 - val_loss: 8.2517e-04 - val_accuracy: 0.1652\n",
      "Epoch 34/50\n",
      "1339/1339 [==============================] - 51s 38ms/step - loss: 5.2933e-04 - accuracy: 0.1748 - val_loss: 8.2626e-04 - val_accuracy: 0.1660\n",
      "Epoch 35/50\n",
      "1339/1339 [==============================] - 47s 35ms/step - loss: 5.1799e-04 - accuracy: 0.1739 - val_loss: 8.2779e-04 - val_accuracy: 0.1692\n",
      "Epoch 36/50\n",
      "1339/1339 [==============================] - 50s 37ms/step - loss: 5.0700e-04 - accuracy: 0.1741 - val_loss: 8.2965e-04 - val_accuracy: 0.1650\n",
      "Epoch 37/50\n",
      "1339/1339 [==============================] - 48s 36ms/step - loss: 4.9634e-04 - accuracy: 0.1748 - val_loss: 8.3142e-04 - val_accuracy: 0.1656\n",
      "Epoch 38/50\n",
      "1339/1339 [==============================] - 49s 37ms/step - loss: 4.8584e-04 - accuracy: 0.1736 - val_loss: 8.3489e-04 - val_accuracy: 0.1689\n",
      "Epoch 39/50\n",
      "1339/1339 [==============================] - 49s 36ms/step - loss: 4.7578e-04 - accuracy: 0.1740 - val_loss: 8.3694e-04 - val_accuracy: 0.1668\n",
      "Epoch 40/50\n",
      "1339/1339 [==============================] - 52s 39ms/step - loss: 4.6598e-04 - accuracy: 0.1742 - val_loss: 8.4065e-04 - val_accuracy: 0.1647\n",
      "Epoch 41/50\n",
      "1339/1339 [==============================] - 53s 39ms/step - loss: 4.5642e-04 - accuracy: 0.1741 - val_loss: 8.4352e-04 - val_accuracy: 0.1685\n",
      "Epoch 42/50\n",
      "1339/1339 [==============================] - 54s 40ms/step - loss: 4.4716e-04 - accuracy: 0.1757 - val_loss: 8.4697e-04 - val_accuracy: 0.1656\n",
      "Epoch 43/50\n",
      "1339/1339 [==============================] - 44s 33ms/step - loss: 4.3823e-04 - accuracy: 0.1766 - val_loss: 8.5010e-04 - val_accuracy: 0.1647\n",
      "Epoch 44/50\n",
      "1339/1339 [==============================] - 50s 37ms/step - loss: 4.2950e-04 - accuracy: 0.1762 - val_loss: 8.5428e-04 - val_accuracy: 0.1654\n",
      "Epoch 45/50\n",
      "1339/1339 [==============================] - 48s 36ms/step - loss: 4.2112e-04 - accuracy: 0.1757 - val_loss: 8.5878e-04 - val_accuracy: 0.1687\n",
      "Epoch 46/50\n",
      "1339/1339 [==============================] - 47s 35ms/step - loss: 4.1296e-04 - accuracy: 0.1762 - val_loss: 8.6285e-04 - val_accuracy: 0.1633\n",
      "Epoch 47/50\n",
      "1339/1339 [==============================] - 46s 34ms/step - loss: 4.0512e-04 - accuracy: 0.1755 - val_loss: 8.6661e-04 - val_accuracy: 0.1647\n",
      "Epoch 48/50\n",
      "1339/1339 [==============================] - 50s 38ms/step - loss: 3.9753e-04 - accuracy: 0.1768 - val_loss: 8.7152e-04 - val_accuracy: 0.1652\n",
      "Epoch 49/50\n",
      "1339/1339 [==============================] - 49s 37ms/step - loss: 3.9017e-04 - accuracy: 0.1771 - val_loss: 8.7513e-04 - val_accuracy: 0.1645\n",
      "Epoch 50/50\n",
      "1339/1339 [==============================] - 44s 33ms/step - loss: 3.8303e-04 - accuracy: 0.1761 - val_loss: 8.8034e-04 - val_accuracy: 0.1654\n",
      "deep_learning\n"
     ]
    }
   ],
   "source": [
    "predict = deep_learing(t_col,train_one, val_one)"
   ]
  },
  {
   "cell_type": "code",
   "execution_count": 30,
   "metadata": {
    "scrolled": true
   },
   "outputs": [
    {
     "name": "stdout",
     "output_type": "stream",
     "text": [
      "ok\n",
      "ok\n",
      "result\n"
     ]
    }
   ],
   "source": [
    "result=result(val_df['id'],t_col, t_song, t_tag, predict )"
   ]
  },
  {
   "cell_type": "code",
   "execution_count": 31,
   "metadata": {},
   "outputs": [],
   "source": [
    "write_json(result,'denoising/results2')"
   ]
  },
  {
   "cell_type": "code",
   "execution_count": 32,
   "metadata": {},
   "outputs": [],
   "source": [
    "result = pd.read_json('denoising/results2.json')"
   ]
  },
  {
   "cell_type": "code",
   "execution_count": 33,
   "metadata": {},
   "outputs": [],
   "source": [
    "result2 = pd.DataFrame(data=result)"
   ]
  },
  {
   "cell_type": "code",
   "execution_count": 34,
   "metadata": {
    "scrolled": false
   },
   "outputs": [
    {
     "data": {
      "text/html": [
       "<div>\n",
       "<style scoped>\n",
       "    .dataframe tbody tr th:only-of-type {\n",
       "        vertical-align: middle;\n",
       "    }\n",
       "\n",
       "    .dataframe tbody tr th {\n",
       "        vertical-align: top;\n",
       "    }\n",
       "\n",
       "    .dataframe thead th {\n",
       "        text-align: right;\n",
       "    }\n",
       "</style>\n",
       "<table border=\"1\" class=\"dataframe\">\n",
       "  <thead>\n",
       "    <tr style=\"text-align: right;\">\n",
       "      <th></th>\n",
       "      <th>id</th>\n",
       "      <th>songs</th>\n",
       "      <th>tags</th>\n",
       "    </tr>\n",
       "  </thead>\n",
       "  <tbody>\n",
       "    <tr>\n",
       "      <th>5734</th>\n",
       "      <td>3</td>\n",
       "      <td>[321296, 469774, 547386, 663256, 355518, 18213...</td>\n",
       "      <td>[졸릴때, 인생곡, 신나는곡, 운전, 신나는노래, 여름노래, 차안에서, 추천곡, 신...</td>\n",
       "    </tr>\n",
       "    <tr>\n",
       "      <th>21172</th>\n",
       "      <td>10</td>\n",
       "      <td>[261853, 146449, 520522, 603475, 594905, 41800...</td>\n",
       "      <td>[함께, 프로야구, 감성음악, 동화, 편안함, 좋은, 신화, 나이키, 서태지, 아기동요]</td>\n",
       "    </tr>\n",
       "    <tr>\n",
       "      <th>21852</th>\n",
       "      <td>18</td>\n",
       "      <td>[637303, 420490, 546490, 634669, 416859, 28588...</td>\n",
       "      <td>[시원한, 노래추천, 여름향기, 방학, 무더위, 시원한음악, 청량, 더위, 시원, 여름]</td>\n",
       "    </tr>\n",
       "    <tr>\n",
       "      <th>11432</th>\n",
       "      <td>22</td>\n",
       "      <td>[103530, 300651, 85316, 574119, 628248, 611706...</td>\n",
       "      <td>[신화, 아련, 프로야구, K팝스타, 좋은, 멜로디, 노래추천, 서태지, 나이키, ...</td>\n",
       "    </tr>\n",
       "    <tr>\n",
       "      <th>10694</th>\n",
       "      <td>23</td>\n",
       "      <td>[103530, 300651, 85316, 574119, 628248, 611706...</td>\n",
       "      <td>[신화, 아련, 프로야구, K팝스타, 좋은, 멜로디, 노래추천, 서태지, 나이키, ...</td>\n",
       "    </tr>\n",
       "    <tr>\n",
       "      <th>...</th>\n",
       "      <td>...</td>\n",
       "      <td>...</td>\n",
       "      <td>...</td>\n",
       "    </tr>\n",
       "    <tr>\n",
       "      <th>22009</th>\n",
       "      <td>153382</td>\n",
       "      <td>[367874, 412695, 463466, 574856, 474353, 43714...</td>\n",
       "      <td>[낮잠, 봄날, 생각, 자장가, 가사없는, 피아노, 숙면, 연주곡, OST, 뉴에이지]</td>\n",
       "    </tr>\n",
       "    <tr>\n",
       "      <th>11632</th>\n",
       "      <td>153386</td>\n",
       "      <td>[645130, 15434, 333461, 429601, 76453, 40937, ...</td>\n",
       "      <td>[느낌, 소울, 여자보컬, 목소리, 노래추천, 감미로운, 꿀음색, 음색깡패, 음색,...</td>\n",
       "    </tr>\n",
       "    <tr>\n",
       "      <th>830</th>\n",
       "      <td>153411</td>\n",
       "      <td>[367260, 449338, 547386, 264002, 584191, 63553...</td>\n",
       "      <td>[까페, 낭만적인, 휴식힐링, 젝스키스, 끈적한, 신화, 명곡모음, 추억, 복면가왕...</td>\n",
       "    </tr>\n",
       "    <tr>\n",
       "      <th>3756</th>\n",
       "      <td>153417</td>\n",
       "      <td>[103530, 300651, 85316, 574119, 628248, 611706...</td>\n",
       "      <td>[신화, 아련, 프로야구, K팝스타, 좋은, 멜로디, 노래추천, 서태지, 나이키, ...</td>\n",
       "    </tr>\n",
       "    <tr>\n",
       "      <th>3709</th>\n",
       "      <td>153424</td>\n",
       "      <td>[103530, 300651, 85316, 574119, 628248, 611706...</td>\n",
       "      <td>[신화, 아련, 프로야구, K팝스타, 좋은, 멜로디, 노래추천, 서태지, 나이키, ...</td>\n",
       "    </tr>\n",
       "  </tbody>\n",
       "</table>\n",
       "<p>23015 rows × 3 columns</p>\n",
       "</div>"
      ],
      "text/plain": [
       "           id                                              songs  \\\n",
       "5734        3  [321296, 469774, 547386, 663256, 355518, 18213...   \n",
       "21172      10  [261853, 146449, 520522, 603475, 594905, 41800...   \n",
       "21852      18  [637303, 420490, 546490, 634669, 416859, 28588...   \n",
       "11432      22  [103530, 300651, 85316, 574119, 628248, 611706...   \n",
       "10694      23  [103530, 300651, 85316, 574119, 628248, 611706...   \n",
       "...       ...                                                ...   \n",
       "22009  153382  [367874, 412695, 463466, 574856, 474353, 43714...   \n",
       "11632  153386  [645130, 15434, 333461, 429601, 76453, 40937, ...   \n",
       "830    153411  [367260, 449338, 547386, 264002, 584191, 63553...   \n",
       "3756   153417  [103530, 300651, 85316, 574119, 628248, 611706...   \n",
       "3709   153424  [103530, 300651, 85316, 574119, 628248, 611706...   \n",
       "\n",
       "                                                    tags  \n",
       "5734   [졸릴때, 인생곡, 신나는곡, 운전, 신나는노래, 여름노래, 차안에서, 추천곡, 신...  \n",
       "21172  [함께, 프로야구, 감성음악, 동화, 편안함, 좋은, 신화, 나이키, 서태지, 아기동요]  \n",
       "21852  [시원한, 노래추천, 여름향기, 방학, 무더위, 시원한음악, 청량, 더위, 시원, 여름]  \n",
       "11432  [신화, 아련, 프로야구, K팝스타, 좋은, 멜로디, 노래추천, 서태지, 나이키, ...  \n",
       "10694  [신화, 아련, 프로야구, K팝스타, 좋은, 멜로디, 노래추천, 서태지, 나이키, ...  \n",
       "...                                                  ...  \n",
       "22009   [낮잠, 봄날, 생각, 자장가, 가사없는, 피아노, 숙면, 연주곡, OST, 뉴에이지]  \n",
       "11632  [느낌, 소울, 여자보컬, 목소리, 노래추천, 감미로운, 꿀음색, 음색깡패, 음색,...  \n",
       "830    [까페, 낭만적인, 휴식힐링, 젝스키스, 끈적한, 신화, 명곡모음, 추억, 복면가왕...  \n",
       "3756   [신화, 아련, 프로야구, K팝스타, 좋은, 멜로디, 노래추천, 서태지, 나이키, ...  \n",
       "3709   [신화, 아련, 프로야구, K팝스타, 좋은, 멜로디, 노래추천, 서태지, 나이키, ...  \n",
       "\n",
       "[23015 rows x 3 columns]"
      ]
     },
     "execution_count": 34,
     "metadata": {},
     "output_type": "execute_result"
    }
   ],
   "source": [
    "result2.sort_values(by=['id'], axis=0)"
   ]
  },
  {
   "cell_type": "code",
   "execution_count": 35,
   "metadata": {},
   "outputs": [],
   "source": [
    "val = pd.read_json('data/val.json')"
   ]
  },
  {
   "cell_type": "code",
   "execution_count": 36,
   "metadata": {
    "scrolled": true
   },
   "outputs": [
    {
     "data": {
      "text/html": [
       "<div>\n",
       "<style scoped>\n",
       "    .dataframe tbody tr th:only-of-type {\n",
       "        vertical-align: middle;\n",
       "    }\n",
       "\n",
       "    .dataframe tbody tr th {\n",
       "        vertical-align: top;\n",
       "    }\n",
       "\n",
       "    .dataframe thead th {\n",
       "        text-align: right;\n",
       "    }\n",
       "</style>\n",
       "<table border=\"1\" class=\"dataframe\">\n",
       "  <thead>\n",
       "    <tr style=\"text-align: right;\">\n",
       "      <th></th>\n",
       "      <th>tags</th>\n",
       "      <th>id</th>\n",
       "      <th>plylst_title</th>\n",
       "      <th>songs</th>\n",
       "      <th>like_cnt</th>\n",
       "      <th>updt_date</th>\n",
       "    </tr>\n",
       "  </thead>\n",
       "  <tbody>\n",
       "    <tr>\n",
       "      <th>20455</th>\n",
       "      <td>[드라이브할때신나는노래]</td>\n",
       "      <td>3</td>\n",
       "      <td></td>\n",
       "      <td>[174104, 377243, 442123, 590253, 372171, 14281...</td>\n",
       "      <td>24</td>\n",
       "      <td>2016-12-12 09:59:28.000</td>\n",
       "    </tr>\n",
       "    <tr>\n",
       "      <th>21977</th>\n",
       "      <td>[재즈추천]</td>\n",
       "      <td>10</td>\n",
       "      <td></td>\n",
       "      <td>[477623, 571909, 232780, 22855, 572565, 696141...</td>\n",
       "      <td>0</td>\n",
       "      <td>2019-03-27 15:20:35.000</td>\n",
       "    </tr>\n",
       "    <tr>\n",
       "      <th>6229</th>\n",
       "      <td>[여름]</td>\n",
       "      <td>18</td>\n",
       "      <td></td>\n",
       "      <td>[630498, 157520, 116862, 204839, 169945, 25412...</td>\n",
       "      <td>0</td>\n",
       "      <td>2017-04-13 19:14:28.000</td>\n",
       "    </tr>\n",
       "    <tr>\n",
       "      <th>5102</th>\n",
       "      <td>[]</td>\n",
       "      <td>22</td>\n",
       "      <td>추억속에 민들레 되어...</td>\n",
       "      <td>[]</td>\n",
       "      <td>7</td>\n",
       "      <td>2011-05-09 19:05:21.000</td>\n",
       "    </tr>\n",
       "    <tr>\n",
       "      <th>11188</th>\n",
       "      <td>[]</td>\n",
       "      <td>23</td>\n",
       "      <td></td>\n",
       "      <td>[606923, 364111, 538777, 234196, 707031, 63575...</td>\n",
       "      <td>8</td>\n",
       "      <td>2014-03-21 09:59:27.000</td>\n",
       "    </tr>\n",
       "    <tr>\n",
       "      <th>...</th>\n",
       "      <td>...</td>\n",
       "      <td>...</td>\n",
       "      <td>...</td>\n",
       "      <td>...</td>\n",
       "      <td>...</td>\n",
       "      <td>...</td>\n",
       "    </tr>\n",
       "    <tr>\n",
       "      <th>12683</th>\n",
       "      <td>[태교음악, 감성자극, OST, 숙면, 뉴에이지]</td>\n",
       "      <td>153382</td>\n",
       "      <td></td>\n",
       "      <td>[437087, 188137, 608545, 156468, 20735, 46911,...</td>\n",
       "      <td>0</td>\n",
       "      <td>2019-04-23 11:58:31.000</td>\n",
       "    </tr>\n",
       "    <tr>\n",
       "      <th>18472</th>\n",
       "      <td>[알앤비, 음색]</td>\n",
       "      <td>153386</td>\n",
       "      <td></td>\n",
       "      <td>[224176, 457916, 430800, 349046, 647312, 59677...</td>\n",
       "      <td>7</td>\n",
       "      <td>2020-01-22 02:46:02.000</td>\n",
       "    </tr>\n",
       "    <tr>\n",
       "      <th>10693</th>\n",
       "      <td>[oldpop, 회상]</td>\n",
       "      <td>153411</td>\n",
       "      <td></td>\n",
       "      <td>[113088, 55264, 209280, 562707, 237235, 661575...</td>\n",
       "      <td>523</td>\n",
       "      <td>2018-04-22 15:43:58.000</td>\n",
       "    </tr>\n",
       "    <tr>\n",
       "      <th>7222</th>\n",
       "      <td>[]</td>\n",
       "      <td>153417</td>\n",
       "      <td>아침에 일어나 눈 비비며 듣는 CCM</td>\n",
       "      <td>[]</td>\n",
       "      <td>52</td>\n",
       "      <td>2017-04-23 07:06:41.000</td>\n",
       "    </tr>\n",
       "    <tr>\n",
       "      <th>10635</th>\n",
       "      <td>[]</td>\n",
       "      <td>153424</td>\n",
       "      <td></td>\n",
       "      <td>[465896, 507983, 699444, 449848, 270779, 50149...</td>\n",
       "      <td>53</td>\n",
       "      <td>2016-01-26 09:54:05.000</td>\n",
       "    </tr>\n",
       "  </tbody>\n",
       "</table>\n",
       "<p>23015 rows × 6 columns</p>\n",
       "</div>"
      ],
      "text/plain": [
       "                              tags      id          plylst_title  \\\n",
       "20455                [드라이브할때신나는노래]       3                         \n",
       "21977                       [재즈추천]      10                         \n",
       "6229                          [여름]      18                         \n",
       "5102                            []      22        추억속에 민들레 되어...   \n",
       "11188                           []      23                         \n",
       "...                            ...     ...                   ...   \n",
       "12683  [태교음악, 감성자극, OST, 숙면, 뉴에이지]  153382                         \n",
       "18472                    [알앤비, 음색]  153386                         \n",
       "10693                 [oldpop, 회상]  153411                         \n",
       "7222                            []  153417  아침에 일어나 눈 비비며 듣는 CCM   \n",
       "10635                           []  153424                         \n",
       "\n",
       "                                                   songs  like_cnt  \\\n",
       "20455  [174104, 377243, 442123, 590253, 372171, 14281...        24   \n",
       "21977  [477623, 571909, 232780, 22855, 572565, 696141...         0   \n",
       "6229   [630498, 157520, 116862, 204839, 169945, 25412...         0   \n",
       "5102                                                  []         7   \n",
       "11188  [606923, 364111, 538777, 234196, 707031, 63575...         8   \n",
       "...                                                  ...       ...   \n",
       "12683  [437087, 188137, 608545, 156468, 20735, 46911,...         0   \n",
       "18472  [224176, 457916, 430800, 349046, 647312, 59677...         7   \n",
       "10693  [113088, 55264, 209280, 562707, 237235, 661575...       523   \n",
       "7222                                                  []        52   \n",
       "10635  [465896, 507983, 699444, 449848, 270779, 50149...        53   \n",
       "\n",
       "                     updt_date  \n",
       "20455  2016-12-12 09:59:28.000  \n",
       "21977  2019-03-27 15:20:35.000  \n",
       "6229   2017-04-13 19:14:28.000  \n",
       "5102   2011-05-09 19:05:21.000  \n",
       "11188  2014-03-21 09:59:27.000  \n",
       "...                        ...  \n",
       "12683  2019-04-23 11:58:31.000  \n",
       "18472  2020-01-22 02:46:02.000  \n",
       "10693  2018-04-22 15:43:58.000  \n",
       "7222   2017-04-23 07:06:41.000  \n",
       "10635  2016-01-26 09:54:05.000  \n",
       "\n",
       "[23015 rows x 6 columns]"
      ]
     },
     "execution_count": 36,
     "metadata": {},
     "output_type": "execute_result"
    }
   ],
   "source": [
    "val.sort_values(by=['id'], axis=0)"
   ]
  },
  {
   "cell_type": "code",
   "execution_count": 37,
   "metadata": {},
   "outputs": [],
   "source": [
    "#train_one.to_csv('denoising/train_onehot.csv',index = False) \n",
    "#val_one.to_csv('denoising/val_onehot.csv', index = False)"
   ]
  }
 ],
 "metadata": {
  "kernelspec": {
   "display_name": "Python 3",
   "language": "python",
   "name": "python3"
  },
  "language_info": {
   "codemirror_mode": {
    "name": "ipython",
    "version": 3
   },
   "file_extension": ".py",
   "mimetype": "text/x-python",
   "name": "python",
   "nbconvert_exporter": "python",
   "pygments_lexer": "ipython3",
   "version": "3.8.3"
  }
 },
 "nbformat": 4,
 "nbformat_minor": 4
}
